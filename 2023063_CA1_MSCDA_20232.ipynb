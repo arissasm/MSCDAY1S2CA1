{
 "cells": [
  {
   "cell_type": "markdown",
   "id": "6fcbb5ab",
   "metadata": {},
   "source": [
    "# Predictive Modeling of Customer Purchase Behaviour in E-Commerce: A Neural Network Approach\n",
    "\n",
    "Continuous Assessment 1 06/10/2023 - BD & ADA Module // MSc in Data Analytics Y1 S2 \n",
    "    \n",
    "Data source: https://www.kaggle.com/datasets/mkechinov/ecommerce-events-history-in-cosmetics-shop/data\n"
   ]
  },
  {
   "cell_type": "markdown",
   "id": "ba98d24f",
   "metadata": {},
   "source": [
    "## 1. Research  Understanding Phase\n",
    "\n",
    "- In this study an overarching analysis of Customer behavior in eCommerce shop was provided, preparing the customers’ event data for modeling and analysis to predict the number of purchases future customers will do. \n",
    "- PySparkSQL and TensorFlow were used in Jupyter Notebook file to complete this task, using SQL and Python coding language. \n",
    "- To perform an organized and clear understanding of the study timeline, Cross Industry Standard Process for Data Mining (CRISP-DM) Methodology was used, and the cells of code were grouped according to the methodology’s phases. \n",
    "- An Artificial Neural Network model was applied to the chosen variables X and y. For the evaluation phase Mean Absolute Error (MAE) and Mean Squared Error (MSE) were registered to measure the error between predicted and actual values. "
   ]
  },
  {
   "cell_type": "markdown",
   "id": "62f5335a",
   "metadata": {},
   "source": [
    "## 2. Data Understanding Phase\n",
    "Practical Big Data (PySparkSQL) - Part 1"
   ]
  },
  {
   "cell_type": "code",
   "execution_count": 1,
   "id": "472179ad",
   "metadata": {},
   "outputs": [],
   "source": [
    "#Import PySparkSQL\n",
    "import pyspark\n",
    "from pyspark.sql import SparkSession        \n",
    "\n",
    "# Create SparkSession\n",
    "spark = (SparkSession\n",
    "  .builder\n",
    "  .appName(\"SparkSQL\")\n",
    "  .getOrCreate())\n",
    "\n",
    "# Path to dataset\n",
    "csv_file = \"file:////home/hduser/Downloads/2023063/2020-Jan.csv\""
   ]
  },
  {
   "cell_type": "code",
   "execution_count": 2,
   "id": "4619ca46",
   "metadata": {
    "scrolled": true
   },
   "outputs": [
    {
     "name": "stderr",
     "output_type": "stream",
     "text": [
      "                                                                                \r"
     ]
    }
   ],
   "source": [
    "# Read and create a temporary view\n",
    "df = (spark.read.format(\"csv\")\n",
    "  .option(\"inferSchema\", \"true\")\n",
    "  .option(\"header\", \"true\")\n",
    "  .load(csv_file))\n",
    "df.createOrReplaceTempView(\"rawdata\")"
   ]
  },
  {
   "cell_type": "code",
   "execution_count": 3,
   "id": "78da792e",
   "metadata": {},
   "outputs": [
    {
     "name": "stdout",
     "output_type": "stream",
     "text": [
      "root\n",
      " |-- event_time: string (nullable = true)\n",
      " |-- event_type: string (nullable = true)\n",
      " |-- product_id: integer (nullable = true)\n",
      " |-- category_id: long (nullable = true)\n",
      " |-- category_code: string (nullable = true)\n",
      " |-- brand: string (nullable = true)\n",
      " |-- price: double (nullable = true)\n",
      " |-- user_id: integer (nullable = true)\n",
      " |-- user_session: string (nullable = true)\n",
      "\n"
     ]
    }
   ],
   "source": [
    "# Visualise inferred schema\n",
    "data = spark.sql(\"SELECT * FROM rawdata\")\n",
    "data.printSchema()"
   ]
  },
  {
   "cell_type": "code",
   "execution_count": 4,
   "id": "583586a5",
   "metadata": {},
   "outputs": [
    {
     "name": "stdout",
     "output_type": "stream",
     "text": [
      "+--------------------+----------+----------+-------------------+-------------+--------+-----+---------+--------------------+\n",
      "|          event_time|event_type|product_id|        category_id|category_code|   brand|price|  user_id|        user_session|\n",
      "+--------------------+----------+----------+-------------------+-------------+--------+-----+---------+--------------------+\n",
      "|2020-01-01 00:00:...|      view|   5809910|1602943681873052386|         null| grattol| 5.24|595414620|4adb70bb-edbd-498...|\n",
      "|2020-01-01 00:00:...|      view|   5812943|1487580012121948301|         null|kinetics| 3.97|595414640|c8c5205d-be43-4f1...|\n",
      "|2020-01-01 00:00:...|      view|   5798924|1783999068867920626|         null|  zinger| 3.97|595412617|46a5010f-bd69-4fb...|\n",
      "|2020-01-01 00:00:...|      view|   5793052|1487580005754995573|         null|    null| 4.92|420652863|546f6af3-a517-475...|\n",
      "|2020-01-01 00:00:...|      view|   5899926|2115334439910245200|         null|    null| 3.92|484071203|cff70ddf-529e-4b0...|\n",
      "+--------------------+----------+----------+-------------------+-------------+--------+-----+---------+--------------------+\n",
      "only showing top 5 rows\n",
      "\n"
     ]
    }
   ],
   "source": [
    "# Display 5 first rows\n",
    "data.show(5)"
   ]
  },
  {
   "cell_type": "code",
   "execution_count": 5,
   "id": "6b43819e",
   "metadata": {
    "scrolled": true
   },
   "outputs": [
    {
     "name": "stderr",
     "output_type": "stream",
     "text": [
      "[Stage 3:============================================>              (3 + 1) / 4]\r"
     ]
    },
    {
     "name": "stdout",
     "output_type": "stream",
     "text": [
      "+-----------------------+\n",
      "|count(DISTINCT user_id)|\n",
      "+-----------------------+\n",
      "|                 410073|\n",
      "+-----------------------+\n",
      "\n"
     ]
    },
    {
     "name": "stderr",
     "output_type": "stream",
     "text": [
      "\r",
      "                                                                                \r"
     ]
    }
   ],
   "source": [
    "# Number of users\n",
    "action = spark.sql(\"SELECT count(distinct user_id) FROM rawdata\")\n",
    "action.show()"
   ]
  },
  {
   "cell_type": "code",
   "execution_count": 6,
   "id": "67c070c5",
   "metadata": {
    "scrolled": true
   },
   "outputs": [
    {
     "name": "stderr",
     "output_type": "stream",
     "text": [
      "\r",
      "[Stage 9:>                                                          (0 + 4) / 4]\r"
     ]
    },
    {
     "name": "stdout",
     "output_type": "stream",
     "text": [
      "+--------------------------+\n",
      "|count(DISTINCT event_type)|\n",
      "+--------------------------+\n",
      "|                         4|\n",
      "+--------------------------+\n",
      "\n"
     ]
    },
    {
     "name": "stderr",
     "output_type": "stream",
     "text": [
      "\r",
      "[Stage 9:============================================>              (3 + 1) / 4]\r",
      "\r",
      "                                                                                \r"
     ]
    }
   ],
   "source": [
    "# Number of events\n",
    "action = spark.sql(\"SELECT count(distinct event_type) FROM rawdata\")\n",
    "action.show()"
   ]
  },
  {
   "cell_type": "code",
   "execution_count": 7,
   "id": "a1f58e54",
   "metadata": {
    "scrolled": true
   },
   "outputs": [
    {
     "name": "stderr",
     "output_type": "stream",
     "text": [
      "\r",
      "[Stage 15:>                                                         (0 + 4) / 4]\r"
     ]
    },
    {
     "name": "stdout",
     "output_type": "stream",
     "text": [
      "+--------------------------+\n",
      "|count(DISTINCT product_id)|\n",
      "+--------------------------+\n",
      "|                     45484|\n",
      "+--------------------------+\n",
      "\n"
     ]
    },
    {
     "name": "stderr",
     "output_type": "stream",
     "text": [
      "\r",
      "[Stage 15:=============================>                            (2 + 2) / 4]\r",
      "\r",
      "                                                                                \r"
     ]
    }
   ],
   "source": [
    "# Number of products\n",
    "action = spark.sql(\"SELECT count(distinct product_id) FROM rawdata\")\n",
    "action.show()"
   ]
  },
  {
   "cell_type": "code",
   "execution_count": 8,
   "id": "8c0e024f",
   "metadata": {},
   "outputs": [
    {
     "name": "stderr",
     "output_type": "stream",
     "text": [
      "\r",
      "[Stage 21:>                                                         (0 + 4) / 4]\r"
     ]
    },
    {
     "name": "stdout",
     "output_type": "stream",
     "text": [
      "+----------+--------+\n",
      "|product_id|count(1)|\n",
      "+----------+--------+\n",
      "|   5809910|   36967|\n",
      "|   5809912|   14310|\n",
      "|   5917178|   12634|\n",
      "|   5700037|   11429|\n",
      "|   5686925|   11098|\n",
      "+----------+--------+\n",
      "only showing top 5 rows\n",
      "\n"
     ]
    },
    {
     "name": "stderr",
     "output_type": "stream",
     "text": [
      "\r",
      "[Stage 21:===========================================>              (3 + 1) / 4]\r",
      "\r",
      "                                                                                \r"
     ]
    }
   ],
   "source": [
    "# Top seller product\n",
    "countProduct = spark.sql(\"SELECT product_id, count(*) FROM rawdata GROUP BY product_id ORDER BY count(*) desc\")\n",
    "countProduct.show(5)"
   ]
  },
  {
   "cell_type": "markdown",
   "id": "cfa97ff8",
   "metadata": {},
   "source": [
    "## 3. Data Preparation Phase"
   ]
  },
  {
   "cell_type": "code",
   "execution_count": 9,
   "id": "5b279d6d",
   "metadata": {
    "scrolled": false
   },
   "outputs": [
    {
     "name": "stderr",
     "output_type": "stream",
     "text": [
      "\r",
      "[Stage 24:>                                                         (0 + 4) / 4]\r"
     ]
    },
    {
     "name": "stdout",
     "output_type": "stream",
     "text": [
      "+--------------------+----------------+----------+-------------------+-------------+-------+-----+---------+--------------------+\n",
      "|          event_time|      event_type|product_id|        category_id|category_code|  brand|price|  user_id|        user_session|\n",
      "+--------------------+----------------+----------+-------------------+-------------+-------+-----+---------+--------------------+\n",
      "|2020-01-01 00:00:...|            view|   5809910|1602943681873052386|         null|grattol| 5.24|595414620|4adb70bb-edbd-498...|\n",
      "|2020-01-01 14:21:...|            view|   5809910|1602943681873052386|         null|grattol| 5.24|592285428|33ecf984-0438-459...|\n",
      "|2020-01-01 16:56:...|            view|   5809910|1602943681873052386|         null|grattol| 5.24|595651372|121148f9-4e42-48b...|\n",
      "|2020-01-01 18:40:...|remove_from_cart|   5809910|1602943681873052386|         null|grattol| 5.24|583351843|85fa8bff-02e8-4a5...|\n",
      "|2020-01-02 06:09:...|            view|   5809910|1602943681873052386|         null|grattol| 5.24|529378930|b99ea2eb-1c67-4f3...|\n",
      "+--------------------+----------------+----------+-------------------+-------------+-------+-----+---------+--------------------+\n",
      "only showing top 5 rows\n",
      "\n"
     ]
    },
    {
     "name": "stderr",
     "output_type": "stream",
     "text": [
      "\r",
      "                                                                                \r"
     ]
    }
   ],
   "source": [
    "# New dataframe with topseller product\n",
    "topseller = spark.sql(\"SELECT DISTINCT * FROM rawdata WHERE product_id LIKE 5809910\")\n",
    "topseller.show(5)"
   ]
  },
  {
   "cell_type": "code",
   "execution_count": 10,
   "id": "e0f14dec",
   "metadata": {},
   "outputs": [],
   "source": [
    "# Drop columns\n",
    "topseller = topseller.drop(*[\"product_id\",\"category_id\",\"category_code\",\"brand\",\"price\"])"
   ]
  },
  {
   "cell_type": "code",
   "execution_count": 11,
   "id": "2d9ad457",
   "metadata": {
    "scrolled": false
   },
   "outputs": [
    {
     "name": "stderr",
     "output_type": "stream",
     "text": [
      "\r",
      "[Stage 27:>                                                         (0 + 4) / 4]\r"
     ]
    },
    {
     "name": "stdout",
     "output_type": "stream",
     "text": [
      "+-----------------------+----------------+---------+------------------------------------+\n",
      "|event_time             |event_type      |user_id  |user_session                        |\n",
      "+-----------------------+----------------+---------+------------------------------------+\n",
      "|2020-01-01 00:00:00 UTC|view            |595414620|4adb70bb-edbd-4981-b60f-a05bfd32683a|\n",
      "|2020-01-01 14:21:02 UTC|view            |592285428|33ecf984-0438-459c-aea6-241319336d75|\n",
      "|2020-01-01 16:56:51 UTC|view            |595651372|121148f9-4e42-48ba-94eb-7aca8935940b|\n",
      "|2020-01-01 18:40:56 UTC|remove_from_cart|583351843|85fa8bff-02e8-4a5f-80b8-a129ce5555e3|\n",
      "|2020-01-02 06:09:01 UTC|view            |529378930|b99ea2eb-1c67-4f39-ab20-792ebfb87f93|\n",
      "|2020-01-02 08:21:31 UTC|view            |595842440|b257db78-93e8-46d4-9893-56194751a4d9|\n",
      "|2020-01-03 06:16:01 UTC|view            |595798798|8b2d9742-eb2f-4bbd-8387-ace81cfdef2a|\n",
      "|2020-01-03 11:17:22 UTC|cart            |596055322|74521846-45da-4a1e-a61e-19fbe7f6fb82|\n",
      "|2020-01-03 11:18:18 UTC|view            |552479336|46093a80-aae3-4d2d-a734-44c0acd990e3|\n",
      "|2020-01-03 11:57:45 UTC|view            |184175105|61552a84-dd9b-4198-8b8e-9f906b0bc7ac|\n",
      "+-----------------------+----------------+---------+------------------------------------+\n",
      "only showing top 10 rows\n",
      "\n"
     ]
    },
    {
     "name": "stderr",
     "output_type": "stream",
     "text": [
      "\r",
      "                                                                                \r"
     ]
    }
   ],
   "source": [
    "# Show updated topseller df\n",
    "topseller.show(10,False)"
   ]
  },
  {
   "cell_type": "code",
   "execution_count": 12,
   "id": "d37886bc",
   "metadata": {
    "scrolled": false
   },
   "outputs": [
    {
     "name": "stderr",
     "output_type": "stream",
     "text": [
      "\r",
      "[Stage 30:>                                                         (0 + 4) / 4]\r"
     ]
    },
    {
     "name": "stdout",
     "output_type": "stream",
     "text": [
      "+-----------------------+----------+------------------------------------+\n",
      "|event_time             |event_type|user_session                        |\n",
      "+-----------------------+----------+------------------------------------+\n",
      "|2020-01-07 14:33:37 UTC|view      |d6151353-322f-4a7a-b3a4-0c4c0e52e2f5|\n",
      "|2020-01-07 14:39:42 UTC|cart      |d6151353-322f-4a7a-b3a4-0c4c0e52e2f5|\n",
      "|2020-01-07 18:05:19 UTC|purchase  |697d43d2-07f9-4c59-aa7c-8dca123cebc0|\n",
      "+-----------------------+----------+------------------------------------+\n",
      "\n"
     ]
    },
    {
     "name": "stderr",
     "output_type": "stream",
     "text": [
      "\r",
      "                                                                                \r"
     ]
    }
   ],
   "source": [
    "# Customer behaviour before purchasing example\n",
    "# Random customer collected from filtering event_type: 'purchase' \n",
    "from pyspark.sql.functions import asc\n",
    "topseller.select(\"event_time\",\"event_type\",\"user_session\").filter(\"user_id = 431397250\").orderBy(asc(\"event_time\")).show(truncate=False)"
   ]
  },
  {
   "cell_type": "code",
   "execution_count": 13,
   "id": "0cca42a3",
   "metadata": {},
   "outputs": [
    {
     "name": "stderr",
     "output_type": "stream",
     "text": [
      "\r",
      "[Stage 33:>                                                         (0 + 4) / 4]\r"
     ]
    },
    {
     "name": "stdout",
     "output_type": "stream",
     "text": [
      "+-----------------------+----------+------------------------------------+\n",
      "|event_time             |event_type|user_session                        |\n",
      "+-----------------------+----------+------------------------------------+\n",
      "|2020-01-28 06:12:26 UTC|cart      |5549dfe6-109e-497f-a9f2-01c0aecdd73f|\n",
      "|2020-01-28 06:14:08 UTC|view      |5549dfe6-109e-497f-a9f2-01c0aecdd73f|\n",
      "|2020-01-28 06:17:17 UTC|view      |5549dfe6-109e-497f-a9f2-01c0aecdd73f|\n",
      "|2020-01-28 06:53:25 UTC|purchase  |67347fb6-2e23-4695-8d32-03829cc6fdaf|\n",
      "+-----------------------+----------+------------------------------------+\n",
      "\n"
     ]
    },
    {
     "name": "stderr",
     "output_type": "stream",
     "text": [
      "\r",
      "                                                                                \r"
     ]
    }
   ],
   "source": [
    "# Customer behaviour before purchasing example\n",
    "# Random customer collected from filtering event_type: 'purchase' \n",
    "from pyspark.sql.functions import asc\n",
    "topseller.select(\"event_time\",\"event_type\",\"user_session\").filter(\"user_id = 46383252\").orderBy(asc(\"event_time\")).show(30,truncate=False)"
   ]
  },
  {
   "cell_type": "code",
   "execution_count": 14,
   "id": "27e4cc2d",
   "metadata": {},
   "outputs": [],
   "source": [
    "# Sort ASC topseller df by user_id and event \n",
    "sorted_by_user_event = topseller.orderBy([\"user_id\",\"event_type\"], ascending= [True, True])"
   ]
  },
  {
   "cell_type": "code",
   "execution_count": 15,
   "id": "818dcc6e",
   "metadata": {},
   "outputs": [
    {
     "name": "stderr",
     "output_type": "stream",
     "text": [
      "\r",
      "[Stage 36:>                                                         (0 + 4) / 4]\r"
     ]
    },
    {
     "name": "stdout",
     "output_type": "stream",
     "text": [
      "+-----------------------+----------------+--------+------------------------------------+\n",
      "|event_time             |event_type      |user_id |user_session                        |\n",
      "+-----------------------+----------------+--------+------------------------------------+\n",
      "|2020-01-28 05:41:23 UTC|view            |4661182 |ce380fb8-bfdd-49a5-949f-eeac2c349af1|\n",
      "|2020-01-28 05:43:43 UTC|view            |4661182 |ce380fb8-bfdd-49a5-949f-eeac2c349af1|\n",
      "|2020-01-14 09:33:54 UTC|cart            |12961898|6cb94e2c-4db2-46ac-8c11-1ced638112bc|\n",
      "|2020-01-13 11:36:50 UTC|cart            |12961898|91ceb8ab-fa0f-4929-b02e-9f36a19e73a5|\n",
      "|2020-01-27 09:37:44 UTC|remove_from_cart|12961898|ea56a517-171d-4740-a9f7-f628f40274c8|\n",
      "+-----------------------+----------------+--------+------------------------------------+\n",
      "only showing top 5 rows\n",
      "\n"
     ]
    },
    {
     "name": "stderr",
     "output_type": "stream",
     "text": [
      "\r",
      "[Stage 36:==============>                                           (1 + 3) / 4]\r",
      "\r",
      "                                                                                \r"
     ]
    }
   ],
   "source": [
    "# Return result\n",
    "sorted_by_user_event.show(5,truncate=False)"
   ]
  },
  {
   "cell_type": "code",
   "execution_count": 16,
   "id": "b977bc26",
   "metadata": {},
   "outputs": [],
   "source": [
    "# Group df by user_id and event_type\n",
    "event_type_count_user = sorted_by_user_event.groupby('user_id','event_type').count()"
   ]
  },
  {
   "cell_type": "code",
   "execution_count": 17,
   "id": "767d29d5",
   "metadata": {},
   "outputs": [],
   "source": [
    "# New df with organised data counting event_type by user_id\n",
    "sorted_event_type_count_user = event_type_count_user.orderBy([\"user_id\",\"event_type\"], ascending= [True, True])"
   ]
  },
  {
   "cell_type": "code",
   "execution_count": 18,
   "id": "6283d80d",
   "metadata": {
    "scrolled": false
   },
   "outputs": [
    {
     "name": "stderr",
     "output_type": "stream",
     "text": [
      "\r",
      "[Stage 39:>                                                         (0 + 4) / 4]\r"
     ]
    },
    {
     "name": "stdout",
     "output_type": "stream",
     "text": [
      "+--------+----------------+-----+\n",
      "| user_id|      event_type|count|\n",
      "+--------+----------------+-----+\n",
      "| 4661182|            view|    2|\n",
      "|12961898|            cart|    2|\n",
      "|12961898|remove_from_cart|    1|\n",
      "|27692594|            cart|    1|\n",
      "|31272873|            cart|    1|\n",
      "|31272873|remove_from_cart|    1|\n",
      "|46383252|            cart|    1|\n",
      "|46383252|        purchase|    1|\n",
      "|46383252|            view|    2|\n",
      "|47076222|            view|    5|\n",
      "+--------+----------------+-----+\n",
      "only showing top 10 rows\n",
      "\n"
     ]
    },
    {
     "name": "stderr",
     "output_type": "stream",
     "text": [
      "\r",
      "                                                                                \r"
     ]
    }
   ],
   "source": [
    "# Display new df\n",
    "sorted_event_type_count_user.show(10)"
   ]
  },
  {
   "cell_type": "code",
   "execution_count": 19,
   "id": "26443915",
   "metadata": {
    "scrolled": true
   },
   "outputs": [
    {
     "name": "stderr",
     "output_type": "stream",
     "text": [
      "                                                                                \r"
     ]
    },
    {
     "data": {
      "text/html": [
       "<div>\n",
       "<style scoped>\n",
       "    .dataframe tbody tr th:only-of-type {\n",
       "        vertical-align: middle;\n",
       "    }\n",
       "\n",
       "    .dataframe tbody tr th {\n",
       "        vertical-align: top;\n",
       "    }\n",
       "\n",
       "    .dataframe thead th {\n",
       "        text-align: right;\n",
       "    }\n",
       "</style>\n",
       "<table border=\"1\" class=\"dataframe\">\n",
       "  <thead>\n",
       "    <tr style=\"text-align: right;\">\n",
       "      <th></th>\n",
       "      <th>user_id</th>\n",
       "      <th>event_type</th>\n",
       "      <th>count</th>\n",
       "    </tr>\n",
       "  </thead>\n",
       "  <tbody>\n",
       "    <tr>\n",
       "      <th>0</th>\n",
       "      <td>4661182</td>\n",
       "      <td>view</td>\n",
       "      <td>2</td>\n",
       "    </tr>\n",
       "    <tr>\n",
       "      <th>1</th>\n",
       "      <td>12961898</td>\n",
       "      <td>cart</td>\n",
       "      <td>2</td>\n",
       "    </tr>\n",
       "    <tr>\n",
       "      <th>2</th>\n",
       "      <td>12961898</td>\n",
       "      <td>remove_from_cart</td>\n",
       "      <td>1</td>\n",
       "    </tr>\n",
       "    <tr>\n",
       "      <th>3</th>\n",
       "      <td>27692594</td>\n",
       "      <td>cart</td>\n",
       "      <td>1</td>\n",
       "    </tr>\n",
       "    <tr>\n",
       "      <th>4</th>\n",
       "      <td>31272873</td>\n",
       "      <td>cart</td>\n",
       "      <td>1</td>\n",
       "    </tr>\n",
       "  </tbody>\n",
       "</table>\n",
       "</div>"
      ],
      "text/plain": [
       "    user_id        event_type  count\n",
       "0   4661182              view      2\n",
       "1  12961898              cart      2\n",
       "2  12961898  remove_from_cart      1\n",
       "3  27692594              cart      1\n",
       "4  31272873              cart      1"
      ]
     },
     "execution_count": 19,
     "metadata": {},
     "output_type": "execute_result"
    }
   ],
   "source": [
    "# Convert PySpark Dataframe to Pandas\n",
    "pandas_df = sorted_event_type_count_user.toPandas()\n",
    "pandas_df.head()"
   ]
  },
  {
   "cell_type": "code",
   "execution_count": 20,
   "id": "499e9658",
   "metadata": {},
   "outputs": [
    {
     "data": {
      "text/html": [
       "<div>\n",
       "<style scoped>\n",
       "    .dataframe tbody tr th:only-of-type {\n",
       "        vertical-align: middle;\n",
       "    }\n",
       "\n",
       "    .dataframe tbody tr th {\n",
       "        vertical-align: top;\n",
       "    }\n",
       "\n",
       "    .dataframe thead th {\n",
       "        text-align: right;\n",
       "    }\n",
       "</style>\n",
       "<table border=\"1\" class=\"dataframe\">\n",
       "  <thead>\n",
       "    <tr style=\"text-align: right;\">\n",
       "      <th>event_type</th>\n",
       "      <th>cart</th>\n",
       "      <th>purchase</th>\n",
       "      <th>remove_from_cart</th>\n",
       "      <th>view</th>\n",
       "    </tr>\n",
       "    <tr>\n",
       "      <th>user_id</th>\n",
       "      <th></th>\n",
       "      <th></th>\n",
       "      <th></th>\n",
       "      <th></th>\n",
       "    </tr>\n",
       "  </thead>\n",
       "  <tbody>\n",
       "    <tr>\n",
       "      <th>4661182</th>\n",
       "      <td>NaN</td>\n",
       "      <td>NaN</td>\n",
       "      <td>NaN</td>\n",
       "      <td>2.0</td>\n",
       "    </tr>\n",
       "    <tr>\n",
       "      <th>12961898</th>\n",
       "      <td>2.0</td>\n",
       "      <td>NaN</td>\n",
       "      <td>1.0</td>\n",
       "      <td>NaN</td>\n",
       "    </tr>\n",
       "    <tr>\n",
       "      <th>27692594</th>\n",
       "      <td>1.0</td>\n",
       "      <td>NaN</td>\n",
       "      <td>NaN</td>\n",
       "      <td>NaN</td>\n",
       "    </tr>\n",
       "    <tr>\n",
       "      <th>31272873</th>\n",
       "      <td>1.0</td>\n",
       "      <td>NaN</td>\n",
       "      <td>1.0</td>\n",
       "      <td>NaN</td>\n",
       "    </tr>\n",
       "    <tr>\n",
       "      <th>46383252</th>\n",
       "      <td>1.0</td>\n",
       "      <td>1.0</td>\n",
       "      <td>NaN</td>\n",
       "      <td>2.0</td>\n",
       "    </tr>\n",
       "    <tr>\n",
       "      <th>...</th>\n",
       "      <td>...</td>\n",
       "      <td>...</td>\n",
       "      <td>...</td>\n",
       "      <td>...</td>\n",
       "    </tr>\n",
       "    <tr>\n",
       "      <th>608796694</th>\n",
       "      <td>NaN</td>\n",
       "      <td>NaN</td>\n",
       "      <td>NaN</td>\n",
       "      <td>1.0</td>\n",
       "    </tr>\n",
       "    <tr>\n",
       "      <th>608802103</th>\n",
       "      <td>NaN</td>\n",
       "      <td>NaN</td>\n",
       "      <td>NaN</td>\n",
       "      <td>1.0</td>\n",
       "    </tr>\n",
       "    <tr>\n",
       "      <th>608804936</th>\n",
       "      <td>NaN</td>\n",
       "      <td>NaN</td>\n",
       "      <td>NaN</td>\n",
       "      <td>1.0</td>\n",
       "    </tr>\n",
       "    <tr>\n",
       "      <th>608816772</th>\n",
       "      <td>NaN</td>\n",
       "      <td>NaN</td>\n",
       "      <td>NaN</td>\n",
       "      <td>4.0</td>\n",
       "    </tr>\n",
       "    <tr>\n",
       "      <th>608818188</th>\n",
       "      <td>NaN</td>\n",
       "      <td>NaN</td>\n",
       "      <td>NaN</td>\n",
       "      <td>1.0</td>\n",
       "    </tr>\n",
       "  </tbody>\n",
       "</table>\n",
       "<p>18136 rows × 4 columns</p>\n",
       "</div>"
      ],
      "text/plain": [
       "event_type  cart  purchase  remove_from_cart  view\n",
       "user_id                                           \n",
       "4661182      NaN       NaN               NaN   2.0\n",
       "12961898     2.0       NaN               1.0   NaN\n",
       "27692594     1.0       NaN               NaN   NaN\n",
       "31272873     1.0       NaN               1.0   NaN\n",
       "46383252     1.0       1.0               NaN   2.0\n",
       "...          ...       ...               ...   ...\n",
       "608796694    NaN       NaN               NaN   1.0\n",
       "608802103    NaN       NaN               NaN   1.0\n",
       "608804936    NaN       NaN               NaN   1.0\n",
       "608816772    NaN       NaN               NaN   4.0\n",
       "608818188    NaN       NaN               NaN   1.0\n",
       "\n",
       "[18136 rows x 4 columns]"
      ]
     },
     "execution_count": 20,
     "metadata": {},
     "output_type": "execute_result"
    }
   ],
   "source": [
    "# Rearrange column event_type using function .pivot() from pandas lib\n",
    "pandas_df = pandas_df.pivot(index='user_id',columns='event_type',values='count')\n",
    "pandas_df"
   ]
  },
  {
   "cell_type": "code",
   "execution_count": 21,
   "id": "c6824e95",
   "metadata": {},
   "outputs": [
    {
     "data": {
      "text/html": [
       "<div>\n",
       "<style scoped>\n",
       "    .dataframe tbody tr th:only-of-type {\n",
       "        vertical-align: middle;\n",
       "    }\n",
       "\n",
       "    .dataframe tbody tr th {\n",
       "        vertical-align: top;\n",
       "    }\n",
       "\n",
       "    .dataframe thead th {\n",
       "        text-align: right;\n",
       "    }\n",
       "</style>\n",
       "<table border=\"1\" class=\"dataframe\">\n",
       "  <thead>\n",
       "    <tr style=\"text-align: right;\">\n",
       "      <th>event_type</th>\n",
       "      <th>view</th>\n",
       "      <th>cart</th>\n",
       "      <th>remove_from_cart</th>\n",
       "      <th>purchase</th>\n",
       "    </tr>\n",
       "    <tr>\n",
       "      <th>user_id</th>\n",
       "      <th></th>\n",
       "      <th></th>\n",
       "      <th></th>\n",
       "      <th></th>\n",
       "    </tr>\n",
       "  </thead>\n",
       "  <tbody>\n",
       "    <tr>\n",
       "      <th>4661182</th>\n",
       "      <td>2.0</td>\n",
       "      <td>NaN</td>\n",
       "      <td>NaN</td>\n",
       "      <td>NaN</td>\n",
       "    </tr>\n",
       "    <tr>\n",
       "      <th>12961898</th>\n",
       "      <td>NaN</td>\n",
       "      <td>2.0</td>\n",
       "      <td>1.0</td>\n",
       "      <td>NaN</td>\n",
       "    </tr>\n",
       "    <tr>\n",
       "      <th>27692594</th>\n",
       "      <td>NaN</td>\n",
       "      <td>1.0</td>\n",
       "      <td>NaN</td>\n",
       "      <td>NaN</td>\n",
       "    </tr>\n",
       "    <tr>\n",
       "      <th>31272873</th>\n",
       "      <td>NaN</td>\n",
       "      <td>1.0</td>\n",
       "      <td>1.0</td>\n",
       "      <td>NaN</td>\n",
       "    </tr>\n",
       "    <tr>\n",
       "      <th>46383252</th>\n",
       "      <td>2.0</td>\n",
       "      <td>1.0</td>\n",
       "      <td>NaN</td>\n",
       "      <td>1.0</td>\n",
       "    </tr>\n",
       "    <tr>\n",
       "      <th>...</th>\n",
       "      <td>...</td>\n",
       "      <td>...</td>\n",
       "      <td>...</td>\n",
       "      <td>...</td>\n",
       "    </tr>\n",
       "    <tr>\n",
       "      <th>608796694</th>\n",
       "      <td>1.0</td>\n",
       "      <td>NaN</td>\n",
       "      <td>NaN</td>\n",
       "      <td>NaN</td>\n",
       "    </tr>\n",
       "    <tr>\n",
       "      <th>608802103</th>\n",
       "      <td>1.0</td>\n",
       "      <td>NaN</td>\n",
       "      <td>NaN</td>\n",
       "      <td>NaN</td>\n",
       "    </tr>\n",
       "    <tr>\n",
       "      <th>608804936</th>\n",
       "      <td>1.0</td>\n",
       "      <td>NaN</td>\n",
       "      <td>NaN</td>\n",
       "      <td>NaN</td>\n",
       "    </tr>\n",
       "    <tr>\n",
       "      <th>608816772</th>\n",
       "      <td>4.0</td>\n",
       "      <td>NaN</td>\n",
       "      <td>NaN</td>\n",
       "      <td>NaN</td>\n",
       "    </tr>\n",
       "    <tr>\n",
       "      <th>608818188</th>\n",
       "      <td>1.0</td>\n",
       "      <td>NaN</td>\n",
       "      <td>NaN</td>\n",
       "      <td>NaN</td>\n",
       "    </tr>\n",
       "  </tbody>\n",
       "</table>\n",
       "<p>18136 rows × 4 columns</p>\n",
       "</div>"
      ],
      "text/plain": [
       "event_type  view  cart  remove_from_cart  purchase\n",
       "user_id                                           \n",
       "4661182      2.0   NaN               NaN       NaN\n",
       "12961898     NaN   2.0               1.0       NaN\n",
       "27692594     NaN   1.0               NaN       NaN\n",
       "31272873     NaN   1.0               1.0       NaN\n",
       "46383252     2.0   1.0               NaN       1.0\n",
       "...          ...   ...               ...       ...\n",
       "608796694    1.0   NaN               NaN       NaN\n",
       "608802103    1.0   NaN               NaN       NaN\n",
       "608804936    1.0   NaN               NaN       NaN\n",
       "608816772    4.0   NaN               NaN       NaN\n",
       "608818188    1.0   NaN               NaN       NaN\n",
       "\n",
       "[18136 rows x 4 columns]"
      ]
     },
     "execution_count": 21,
     "metadata": {},
     "output_type": "execute_result"
    }
   ],
   "source": [
    "# Rearrange column position\n",
    "pandas_df = pandas_df.reindex(columns=['view','cart','remove_from_cart','purchase'])\n",
    "pandas_df"
   ]
  },
  {
   "cell_type": "code",
   "execution_count": 22,
   "id": "99d49497",
   "metadata": {},
   "outputs": [],
   "source": [
    "# Export final df to csv\n",
    "pandas_df.to_csv('customer_data.csv')"
   ]
  },
  {
   "cell_type": "markdown",
   "id": "4c265817",
   "metadata": {},
   "source": [
    "## 4. Modeling Phase\n",
    "Neural Network Model - Part 2"
   ]
  },
  {
   "cell_type": "code",
   "execution_count": 23,
   "id": "1fd26403",
   "metadata": {
    "scrolled": false
   },
   "outputs": [
    {
     "name": "stderr",
     "output_type": "stream",
     "text": [
      "/usr/lib/python3/dist-packages/scipy/__init__.py:146: UserWarning: A NumPy version >=1.17.3 and <1.25.0 is required for this version of SciPy (detected version 1.26.0\n",
      "  warnings.warn(f\"A NumPy version >={np_minversion} and <{np_maxversion}\"\n"
     ]
    },
    {
     "data": {
      "text/html": [
       "<div>\n",
       "<style scoped>\n",
       "    .dataframe tbody tr th:only-of-type {\n",
       "        vertical-align: middle;\n",
       "    }\n",
       "\n",
       "    .dataframe tbody tr th {\n",
       "        vertical-align: top;\n",
       "    }\n",
       "\n",
       "    .dataframe thead th {\n",
       "        text-align: right;\n",
       "    }\n",
       "</style>\n",
       "<table border=\"1\" class=\"dataframe\">\n",
       "  <thead>\n",
       "    <tr style=\"text-align: right;\">\n",
       "      <th></th>\n",
       "      <th>user_id</th>\n",
       "      <th>view</th>\n",
       "      <th>cart</th>\n",
       "      <th>remove_from_cart</th>\n",
       "      <th>purchase</th>\n",
       "    </tr>\n",
       "  </thead>\n",
       "  <tbody>\n",
       "    <tr>\n",
       "      <th>0</th>\n",
       "      <td>4661182</td>\n",
       "      <td>2.0</td>\n",
       "      <td>NaN</td>\n",
       "      <td>NaN</td>\n",
       "      <td>NaN</td>\n",
       "    </tr>\n",
       "    <tr>\n",
       "      <th>1</th>\n",
       "      <td>12961898</td>\n",
       "      <td>NaN</td>\n",
       "      <td>2.0</td>\n",
       "      <td>1.0</td>\n",
       "      <td>NaN</td>\n",
       "    </tr>\n",
       "    <tr>\n",
       "      <th>2</th>\n",
       "      <td>27692594</td>\n",
       "      <td>NaN</td>\n",
       "      <td>1.0</td>\n",
       "      <td>NaN</td>\n",
       "      <td>NaN</td>\n",
       "    </tr>\n",
       "    <tr>\n",
       "      <th>3</th>\n",
       "      <td>31272873</td>\n",
       "      <td>NaN</td>\n",
       "      <td>1.0</td>\n",
       "      <td>1.0</td>\n",
       "      <td>NaN</td>\n",
       "    </tr>\n",
       "    <tr>\n",
       "      <th>4</th>\n",
       "      <td>46383252</td>\n",
       "      <td>2.0</td>\n",
       "      <td>1.0</td>\n",
       "      <td>NaN</td>\n",
       "      <td>1.0</td>\n",
       "    </tr>\n",
       "    <tr>\n",
       "      <th>...</th>\n",
       "      <td>...</td>\n",
       "      <td>...</td>\n",
       "      <td>...</td>\n",
       "      <td>...</td>\n",
       "      <td>...</td>\n",
       "    </tr>\n",
       "    <tr>\n",
       "      <th>18131</th>\n",
       "      <td>608796694</td>\n",
       "      <td>1.0</td>\n",
       "      <td>NaN</td>\n",
       "      <td>NaN</td>\n",
       "      <td>NaN</td>\n",
       "    </tr>\n",
       "    <tr>\n",
       "      <th>18132</th>\n",
       "      <td>608802103</td>\n",
       "      <td>1.0</td>\n",
       "      <td>NaN</td>\n",
       "      <td>NaN</td>\n",
       "      <td>NaN</td>\n",
       "    </tr>\n",
       "    <tr>\n",
       "      <th>18133</th>\n",
       "      <td>608804936</td>\n",
       "      <td>1.0</td>\n",
       "      <td>NaN</td>\n",
       "      <td>NaN</td>\n",
       "      <td>NaN</td>\n",
       "    </tr>\n",
       "    <tr>\n",
       "      <th>18134</th>\n",
       "      <td>608816772</td>\n",
       "      <td>4.0</td>\n",
       "      <td>NaN</td>\n",
       "      <td>NaN</td>\n",
       "      <td>NaN</td>\n",
       "    </tr>\n",
       "    <tr>\n",
       "      <th>18135</th>\n",
       "      <td>608818188</td>\n",
       "      <td>1.0</td>\n",
       "      <td>NaN</td>\n",
       "      <td>NaN</td>\n",
       "      <td>NaN</td>\n",
       "    </tr>\n",
       "  </tbody>\n",
       "</table>\n",
       "<p>18136 rows × 5 columns</p>\n",
       "</div>"
      ],
      "text/plain": [
       "         user_id  view  cart  remove_from_cart  purchase\n",
       "0        4661182   2.0   NaN               NaN       NaN\n",
       "1       12961898   NaN   2.0               1.0       NaN\n",
       "2       27692594   NaN   1.0               NaN       NaN\n",
       "3       31272873   NaN   1.0               1.0       NaN\n",
       "4       46383252   2.0   1.0               NaN       1.0\n",
       "...          ...   ...   ...               ...       ...\n",
       "18131  608796694   1.0   NaN               NaN       NaN\n",
       "18132  608802103   1.0   NaN               NaN       NaN\n",
       "18133  608804936   1.0   NaN               NaN       NaN\n",
       "18134  608816772   4.0   NaN               NaN       NaN\n",
       "18135  608818188   1.0   NaN               NaN       NaN\n",
       "\n",
       "[18136 rows x 5 columns]"
      ]
     },
     "execution_count": 23,
     "metadata": {},
     "output_type": "execute_result"
    }
   ],
   "source": [
    "# Import libraries \n",
    "import pandas as pd\n",
    "import numpy as np\n",
    "import matplotlib.pyplot as plt \n",
    "\n",
    "import tensorflow as tf\n",
    "from sklearn.model_selection import train_test_split\n",
    "from sklearn.preprocessing import StandardScaler\n",
    "from tensorflow.keras.models import Sequential\n",
    "from tensorflow.keras.layers import Dense\n",
    "from tensorflow.keras.optimizers.legacy import Adam\n",
    "from itertools import product\n",
    "\n",
    "\n",
    "import warnings\n",
    "warnings.filterwarnings(\"ignore\")\n",
    "\n",
    "\n",
    "# Load dataset\n",
    "data2 = pd.read_csv(\"customer_data.csv\")\n",
    "data2"
   ]
  },
  {
   "cell_type": "code",
   "execution_count": 24,
   "id": "6c710546",
   "metadata": {},
   "outputs": [],
   "source": [
    "# Replace NaN values with 0\n",
    "data2 = data2.fillna(0)"
   ]
  },
  {
   "cell_type": "code",
   "execution_count": 25,
   "id": "a8775e65",
   "metadata": {},
   "outputs": [
    {
     "data": {
      "text/html": [
       "<div>\n",
       "<style scoped>\n",
       "    .dataframe tbody tr th:only-of-type {\n",
       "        vertical-align: middle;\n",
       "    }\n",
       "\n",
       "    .dataframe tbody tr th {\n",
       "        vertical-align: top;\n",
       "    }\n",
       "\n",
       "    .dataframe thead th {\n",
       "        text-align: right;\n",
       "    }\n",
       "</style>\n",
       "<table border=\"1\" class=\"dataframe\">\n",
       "  <thead>\n",
       "    <tr style=\"text-align: right;\">\n",
       "      <th></th>\n",
       "      <th>user_id</th>\n",
       "      <th>view</th>\n",
       "      <th>cart</th>\n",
       "      <th>remove_from_cart</th>\n",
       "      <th>purchase</th>\n",
       "    </tr>\n",
       "  </thead>\n",
       "  <tbody>\n",
       "    <tr>\n",
       "      <th>0</th>\n",
       "      <td>4661182</td>\n",
       "      <td>2.0</td>\n",
       "      <td>0.0</td>\n",
       "      <td>0.0</td>\n",
       "      <td>0.0</td>\n",
       "    </tr>\n",
       "    <tr>\n",
       "      <th>1</th>\n",
       "      <td>12961898</td>\n",
       "      <td>0.0</td>\n",
       "      <td>2.0</td>\n",
       "      <td>1.0</td>\n",
       "      <td>0.0</td>\n",
       "    </tr>\n",
       "    <tr>\n",
       "      <th>2</th>\n",
       "      <td>27692594</td>\n",
       "      <td>0.0</td>\n",
       "      <td>1.0</td>\n",
       "      <td>0.0</td>\n",
       "      <td>0.0</td>\n",
       "    </tr>\n",
       "    <tr>\n",
       "      <th>3</th>\n",
       "      <td>31272873</td>\n",
       "      <td>0.0</td>\n",
       "      <td>1.0</td>\n",
       "      <td>1.0</td>\n",
       "      <td>0.0</td>\n",
       "    </tr>\n",
       "    <tr>\n",
       "      <th>4</th>\n",
       "      <td>46383252</td>\n",
       "      <td>2.0</td>\n",
       "      <td>1.0</td>\n",
       "      <td>0.0</td>\n",
       "      <td>1.0</td>\n",
       "    </tr>\n",
       "    <tr>\n",
       "      <th>...</th>\n",
       "      <td>...</td>\n",
       "      <td>...</td>\n",
       "      <td>...</td>\n",
       "      <td>...</td>\n",
       "      <td>...</td>\n",
       "    </tr>\n",
       "    <tr>\n",
       "      <th>18131</th>\n",
       "      <td>608796694</td>\n",
       "      <td>1.0</td>\n",
       "      <td>0.0</td>\n",
       "      <td>0.0</td>\n",
       "      <td>0.0</td>\n",
       "    </tr>\n",
       "    <tr>\n",
       "      <th>18132</th>\n",
       "      <td>608802103</td>\n",
       "      <td>1.0</td>\n",
       "      <td>0.0</td>\n",
       "      <td>0.0</td>\n",
       "      <td>0.0</td>\n",
       "    </tr>\n",
       "    <tr>\n",
       "      <th>18133</th>\n",
       "      <td>608804936</td>\n",
       "      <td>1.0</td>\n",
       "      <td>0.0</td>\n",
       "      <td>0.0</td>\n",
       "      <td>0.0</td>\n",
       "    </tr>\n",
       "    <tr>\n",
       "      <th>18134</th>\n",
       "      <td>608816772</td>\n",
       "      <td>4.0</td>\n",
       "      <td>0.0</td>\n",
       "      <td>0.0</td>\n",
       "      <td>0.0</td>\n",
       "    </tr>\n",
       "    <tr>\n",
       "      <th>18135</th>\n",
       "      <td>608818188</td>\n",
       "      <td>1.0</td>\n",
       "      <td>0.0</td>\n",
       "      <td>0.0</td>\n",
       "      <td>0.0</td>\n",
       "    </tr>\n",
       "  </tbody>\n",
       "</table>\n",
       "<p>18136 rows × 5 columns</p>\n",
       "</div>"
      ],
      "text/plain": [
       "         user_id  view  cart  remove_from_cart  purchase\n",
       "0        4661182   2.0   0.0               0.0       0.0\n",
       "1       12961898   0.0   2.0               1.0       0.0\n",
       "2       27692594   0.0   1.0               0.0       0.0\n",
       "3       31272873   0.0   1.0               1.0       0.0\n",
       "4       46383252   2.0   1.0               0.0       1.0\n",
       "...          ...   ...   ...               ...       ...\n",
       "18131  608796694   1.0   0.0               0.0       0.0\n",
       "18132  608802103   1.0   0.0               0.0       0.0\n",
       "18133  608804936   1.0   0.0               0.0       0.0\n",
       "18134  608816772   4.0   0.0               0.0       0.0\n",
       "18135  608818188   1.0   0.0               0.0       0.0\n",
       "\n",
       "[18136 rows x 5 columns]"
      ]
     },
     "execution_count": 25,
     "metadata": {},
     "output_type": "execute_result"
    }
   ],
   "source": [
    "data2"
   ]
  },
  {
   "cell_type": "code",
   "execution_count": 26,
   "id": "5154aec2",
   "metadata": {},
   "outputs": [],
   "source": [
    "# Separate features and target variable\n",
    "X = data2[['view', 'cart', 'remove_from_cart']]\n",
    "y = data2[['purchase']]"
   ]
  },
  {
   "cell_type": "code",
   "execution_count": 27,
   "id": "9b796ea2",
   "metadata": {},
   "outputs": [],
   "source": [
    "# Split the dataset into train and test\n",
    "X_train, X_test, y_train, y_test = train_test_split(X, y, test_size = 0.2, random_state = 42)"
   ]
  },
  {
   "cell_type": "code",
   "execution_count": 28,
   "id": "de4ced5d",
   "metadata": {},
   "outputs": [],
   "source": [
    "# Scale features\n",
    "scaler = StandardScaler()\n",
    "X_train = scaler.fit_transform(X_train)\n",
    "X_test = scaler.transform(X_test)"
   ]
  },
  {
   "cell_type": "code",
   "execution_count": 29,
   "id": "5aa8fd97",
   "metadata": {},
   "outputs": [],
   "source": [
    "# Build neural network (NN) model \n",
    "nnmodel = tf.keras.Sequential([\n",
    "    tf.keras.layers.Dense(32, activation='relu', input_shape=(3,)),\n",
    "    tf.keras.layers.Dense(16, activation='relu'),\n",
    "    tf.keras.layers.Dense(1) #output layer, no activation function\n",
    "])"
   ]
  },
  {
   "cell_type": "code",
   "execution_count": 30,
   "id": "28cc3b79",
   "metadata": {},
   "outputs": [],
   "source": [
    "# Compile NN model\n",
    "\n",
    "nnmodel.compile(optimizer='adam', loss='mean_squared_error', metrics=['mae'])"
   ]
  },
  {
   "cell_type": "code",
   "execution_count": 31,
   "id": "45a5ba04",
   "metadata": {
    "scrolled": false
   },
   "outputs": [
    {
     "name": "stdout",
     "output_type": "stream",
     "text": [
      "Epoch 1/10\n",
      "363/363 [==============================] - 0s 779us/step - loss: 0.0931 - mae: 0.1572 - val_loss: 0.0878 - val_mae: 0.1776\n",
      "Epoch 2/10\n",
      "363/363 [==============================] - 0s 664us/step - loss: 0.0874 - mae: 0.1535 - val_loss: 0.0861 - val_mae: 0.1650\n",
      "Epoch 3/10\n",
      "363/363 [==============================] - 0s 699us/step - loss: 0.0869 - mae: 0.1532 - val_loss: 0.0858 - val_mae: 0.1631\n",
      "Epoch 4/10\n",
      "363/363 [==============================] - 0s 701us/step - loss: 0.0867 - mae: 0.1540 - val_loss: 0.0840 - val_mae: 0.1522\n",
      "Epoch 5/10\n",
      "363/363 [==============================] - 0s 698us/step - loss: 0.0848 - mae: 0.1494 - val_loss: 0.0846 - val_mae: 0.1421\n",
      "Epoch 6/10\n",
      "363/363 [==============================] - 0s 675us/step - loss: 0.0846 - mae: 0.1479 - val_loss: 0.0833 - val_mae: 0.1566\n",
      "Epoch 7/10\n",
      "363/363 [==============================] - 0s 664us/step - loss: 0.0848 - mae: 0.1474 - val_loss: 0.0827 - val_mae: 0.1564\n",
      "Epoch 8/10\n",
      "363/363 [==============================] - 0s 654us/step - loss: 0.0847 - mae: 0.1476 - val_loss: 0.0817 - val_mae: 0.1409\n",
      "Epoch 9/10\n",
      "363/363 [==============================] - 0s 681us/step - loss: 0.0843 - mae: 0.1462 - val_loss: 0.0817 - val_mae: 0.1416\n",
      "Epoch 10/10\n",
      "363/363 [==============================] - 0s 650us/step - loss: 0.0852 - mae: 0.1478 - val_loss: 0.0839 - val_mae: 0.1563\n"
     ]
    },
    {
     "data": {
      "text/plain": [
       "<keras.src.callbacks.History at 0xffff0c77c970>"
      ]
     },
     "execution_count": 31,
     "metadata": {},
     "output_type": "execute_result"
    }
   ],
   "source": [
    "# Train NN model\n",
    "nnmodel.fit(X_train, y_train, epochs=10, batch_size=32, validation_split=0.2)"
   ]
  },
  {
   "cell_type": "markdown",
   "id": "981da255",
   "metadata": {},
   "source": [
    "## 5. Evaluation Phase"
   ]
  },
  {
   "cell_type": "code",
   "execution_count": 32,
   "id": "9ab9a72f",
   "metadata": {
    "scrolled": true
   },
   "outputs": [
    {
     "name": "stdout",
     "output_type": "stream",
     "text": [
      "114/114 [==============================] - 0s 415us/step - loss: 0.0725 - mae: 0.1500\n",
      "Mean absolute error (MAE) on test data: 0.15004035830497742\n"
     ]
    }
   ],
   "source": [
    "# Evaluate NN model\n",
    "loss, mae = nnmodel.evaluate(X_test, y_test)\n",
    "print(f'Mean absolute error (MAE) on test data: {mae}')"
   ]
  },
  {
   "cell_type": "code",
   "execution_count": 33,
   "id": "cb2aea64",
   "metadata": {},
   "outputs": [
    {
     "name": "stdout",
     "output_type": "stream",
     "text": [
      "1/1 [==============================] - 0s 38ms/step\n",
      "Predicted number of purchases: 1.1200833320617676\n"
     ]
    }
   ],
   "source": [
    "# Make prediction\n",
    "new_customer = np.array([[6,5,0]])\n",
    "scaled_data = scaler.transform(new_customer)\n",
    "prediction = nnmodel.predict(scaled_data)\n",
    "\n",
    "print(f'Predicted number of purchases: {prediction[0][0]}')"
   ]
  },
  {
   "cell_type": "markdown",
   "id": "a811758b",
   "metadata": {},
   "source": [
    "## 6. Deployment Phase"
   ]
  },
  {
   "cell_type": "code",
   "execution_count": 34,
   "id": "61016ef8",
   "metadata": {},
   "outputs": [],
   "source": [
    "# Hyperparameter tuning"
   ]
  },
  {
   "cell_type": "code",
   "execution_count": 35,
   "id": "23a73dc2",
   "metadata": {},
   "outputs": [],
   "source": [
    "# Define the model as a function \n",
    "def create_model(learning_rate=0.01, num_hidden_layers=2, num_neurons=32, activation='relu'):\n",
    "    model = Sequential()\n",
    "    model.add(Dense(num_neurons, activation=activation, input_shape=(3,)))\n",
    "    \n",
    "    for _ in range(num_hidden_layers - 1):\n",
    "        model.add(Dense(num_neurons, activation=activation))\n",
    "    \n",
    "    model.add(Dense(1)) #output layer, no activation function\n",
    "    \n",
    "    optimizer = Adam(learning_rate=learning_rate)\n",
    "    model.compile(optimizer=optimizer, loss='mean_squared_error', metrics=['mae'])\n",
    "    \n",
    "    return model"
   ]
  },
  {
   "cell_type": "code",
   "execution_count": 36,
   "id": "acd657c3",
   "metadata": {},
   "outputs": [],
   "source": [
    "# Define hyperparameters\n",
    "parameter_grid = {\n",
    "    'learning_rate': [0.001, 0.01, 0.1],\n",
    "    'num_hidden_layers': [1, 2, 3],\n",
    "    'num_neurons': [16, 32, 64],\n",
    "    'activation': ['relu', 'tanh']\n",
    "}"
   ]
  },
  {
   "cell_type": "code",
   "execution_count": 37,
   "id": "39991083",
   "metadata": {},
   "outputs": [],
   "source": [
    "# Perform the grid search\n",
    "best_parameter = None\n",
    "best_score = float('inf')"
   ]
  },
  {
   "cell_type": "code",
   "execution_count": 38,
   "id": "82e3bca3",
   "metadata": {
    "scrolled": false
   },
   "outputs": [
    {
     "name": "stdout",
     "output_type": "stream",
     "text": [
      "114/114 [==============================] - 0s 425us/step - loss: 0.0739 - mae: 0.1454\n",
      "114/114 [==============================] - 0s 440us/step - loss: 0.0822 - mae: 0.1515\n",
      "114/114 [==============================] - 0s 464us/step - loss: 0.0724 - mae: 0.1358\n",
      "114/114 [==============================] - 0s 499us/step - loss: 0.0824 - mae: 0.1677\n",
      "114/114 [==============================] - 0s 444us/step - loss: 0.0724 - mae: 0.1362\n",
      "114/114 [==============================] - 0s 464us/step - loss: 0.0839 - mae: 0.1581\n",
      "114/114 [==============================] - 0s 468us/step - loss: 0.0753 - mae: 0.1453\n",
      "114/114 [==============================] - 0s 492us/step - loss: 0.0796 - mae: 0.1527\n",
      "114/114 [==============================] - 0s 484us/step - loss: 0.0725 - mae: 0.1383\n",
      "114/114 [==============================] - 0s 468us/step - loss: 0.0801 - mae: 0.1457\n",
      "114/114 [==============================] - 0s 464us/step - loss: 0.0729 - mae: 0.1401\n",
      "114/114 [==============================] - 0s 471us/step - loss: 0.0812 - mae: 0.1560\n",
      "114/114 [==============================] - 0s 456us/step - loss: 0.0734 - mae: 0.1429\n",
      "114/114 [==============================] - 0s 497us/step - loss: 0.0755 - mae: 0.1504\n",
      "114/114 [==============================] - 0s 514us/step - loss: 0.0724 - mae: 0.1361\n",
      "114/114 [==============================] - 0s 494us/step - loss: 0.0748 - mae: 0.1607\n",
      "114/114 [==============================] - 0s 521us/step - loss: 0.0734 - mae: 0.1461\n",
      "114/114 [==============================] - 0s 515us/step - loss: 0.0819 - mae: 0.1660\n",
      "114/114 [==============================] - 0s 442us/step - loss: 0.0738 - mae: 0.1473\n",
      "114/114 [==============================] - 0s 454us/step - loss: 0.0767 - mae: 0.1517\n",
      "114/114 [==============================] - 0s 431us/step - loss: 0.0722 - mae: 0.1365\n",
      "114/114 [==============================] - 0s 432us/step - loss: 0.0833 - mae: 0.1619\n",
      "114/114 [==============================] - 0s 455us/step - loss: 0.0726 - mae: 0.1434\n",
      "114/114 [==============================] - 0s 474us/step - loss: 0.0832 - mae: 0.1563\n",
      "114/114 [==============================] - 0s 489us/step - loss: 0.0732 - mae: 0.1528\n",
      "114/114 [==============================] - 0s 511us/step - loss: 0.0716 - mae: 0.1419\n",
      "114/114 [==============================] - 0s 464us/step - loss: 0.0774 - mae: 0.1609\n",
      "114/114 [==============================] - 0s 485us/step - loss: 0.0744 - mae: 0.1394\n",
      "114/114 [==============================] - 0s 513us/step - loss: 0.0736 - mae: 0.1513\n",
      "114/114 [==============================] - 0s 470us/step - loss: 0.0801 - mae: 0.1502\n",
      "114/114 [==============================] - 0s 519us/step - loss: 0.0725 - mae: 0.1347\n",
      "114/114 [==============================] - 0s 463us/step - loss: 0.0733 - mae: 0.1422\n",
      "114/114 [==============================] - 0s 474us/step - loss: 0.0730 - mae: 0.1353\n",
      "114/114 [==============================] - 0s 505us/step - loss: 0.0810 - mae: 0.1827\n",
      "114/114 [==============================] - 0s 488us/step - loss: 0.0728 - mae: 0.1359\n",
      "114/114 [==============================] - 0s 487us/step - loss: 0.0820 - mae: 0.1575\n",
      "114/114 [==============================] - 0s 441us/step - loss: 0.0925 - mae: 0.2299\n",
      "114/114 [==============================] - 0s 459us/step - loss: 0.1073 - mae: 0.2209\n",
      "114/114 [==============================] - 0s 478us/step - loss: 0.0997 - mae: 0.1984\n",
      "114/114 [==============================] - 0s 430us/step - loss: 0.1062 - mae: 0.2153\n",
      "114/114 [==============================] - 0s 465us/step - loss: 0.1003 - mae: 0.1693\n",
      "114/114 [==============================] - 0s 478us/step - loss: 0.1285 - mae: 0.1887\n",
      "114/114 [==============================] - 0s 504us/step - loss: 0.0971 - mae: 0.1457\n",
      "114/114 [==============================] - 0s 468us/step - loss: 0.1246 - mae: 0.2397\n",
      "114/114 [==============================] - 0s 470us/step - loss: 0.0982 - mae: 0.1666\n",
      "114/114 [==============================] - 0s 463us/step - loss: 0.0952 - mae: 0.1883\n",
      "114/114 [==============================] - 0s 483us/step - loss: 0.0980 - mae: 0.1474\n",
      "114/114 [==============================] - 0s 498us/step - loss: 0.1136 - mae: 0.2035\n",
      "114/114 [==============================] - 0s 476us/step - loss: 0.0856 - mae: 0.1672\n",
      "114/114 [==============================] - 0s 473us/step - loss: 0.0923 - mae: 0.1587\n",
      "114/114 [==============================] - 0s 464us/step - loss: 0.0996 - mae: 0.1863\n",
      "114/114 [==============================] - 0s 472us/step - loss: 0.1112 - mae: 0.2780\n",
      "114/114 [==============================] - 0s 501us/step - loss: 0.0997 - mae: 0.1812\n",
      "114/114 [==============================] - 0s 505us/step - loss: 0.0806 - mae: 0.1875\n",
      "Best Hyperparameters:  {'learning_rate': 0.01, 'num_hidden_layers': 3, 'num_neurons': 16, 'activation': 'relu'}\n",
      "Best MAE Score:  0.13468100130558014\n"
     ]
    }
   ],
   "source": [
    "for learning_rate, num_hidden_layers, num_neurons, activation in product(\n",
    "    parameter_grid['learning_rate'],\n",
    "    parameter_grid['num_hidden_layers'],\n",
    "    parameter_grid['num_neurons'],\n",
    "    parameter_grid['activation']\n",
    "):\n",
    "    parameter = {\n",
    "        'learning_rate': learning_rate,\n",
    "        'num_hidden_layers': num_hidden_layers,\n",
    "        'num_neurons': num_neurons,\n",
    "        'activation': activation\n",
    "    }\n",
    "\n",
    "    # Create and compile the model\n",
    "    model1 = create_model(**parameter)\n",
    "\n",
    "    # Train the model on the training set\n",
    "    model1.fit(X_train, y_train, epochs=10, batch_size=32, verbose=0)\n",
    "\n",
    "    # Evaluate the model on the validation set\n",
    "    _, mae = model1.evaluate(X_test, y_test)\n",
    "\n",
    "    if mae < best_score:\n",
    "        best_score = mae\n",
    "        best_parameter = parameter\n",
    "\n",
    "# Print the best hyperparameters and corresponding score\n",
    "print(\"Best Hyperparameters: \", best_parameter)\n",
    "print(\"Best MAE Score: \", best_score)"
   ]
  },
  {
   "cell_type": "code",
   "execution_count": null,
   "id": "d0720269",
   "metadata": {},
   "outputs": [],
   "source": []
  }
 ],
 "metadata": {
  "kernelspec": {
   "display_name": "Python 3 (ipykernel)",
   "language": "python",
   "name": "python3"
  },
  "language_info": {
   "codemirror_mode": {
    "name": "ipython",
    "version": 3
   },
   "file_extension": ".py",
   "mimetype": "text/x-python",
   "name": "python",
   "nbconvert_exporter": "python",
   "pygments_lexer": "ipython3",
   "version": "3.11.4"
  }
 },
 "nbformat": 4,
 "nbformat_minor": 5
}
